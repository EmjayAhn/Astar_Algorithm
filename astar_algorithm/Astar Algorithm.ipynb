{
 "cells": [
  {
   "cell_type": "markdown",
   "metadata": {},
   "source": [
    "## [PROJECTmini] #1"
   ]
  },
  {
   "cell_type": "markdown",
   "metadata": {},
   "source": [
    "# Astar Algorithm"
   ]
  },
  {
   "cell_type": "markdown",
   "metadata": {},
   "source": [
    "- **최단경로 미로찾기**  \n",
    "장애물이 있는 $M * N$ 크기의 maze 내에서 설정된 **START**점부터 **GOAL**점까지의 최단경로 탐색"
   ]
  },
  {
   "cell_type": "markdown",
   "metadata": {},
   "source": [
    "---"
   ]
  },
  {
   "cell_type": "markdown",
   "metadata": {},
   "source": [
    "# 1. Data Structure"
   ]
  },
  {
   "cell_type": "markdown",
   "metadata": {},
   "source": [
    "## 1.1 `class Node`\n",
    "- maze의 각 점(칸)이 되는 객체\n",
    "- START 노드에서부터 GOAL 노드에 도달할 때까지 이동하며 경로를 탐색하는 주체이다."
   ]
  },
  {
   "cell_type": "markdown",
   "metadata": {},
   "source": [
    "### 1.1.1 variables"
   ]
  },
  {
   "cell_type": "markdown",
   "metadata": {},
   "source": [
    "#### (1) `G`\n",
    "- **START 노드에서부터 현재 노드까지의 경로 거리**\n",
    "- 대각선 경로 포함\n",
    "- 계산 : (부모노드의 G값) + (10 or 14)\n",
    "    - 부모노드의 동/서/남/북 방향의 노드인 경우 부모노드로부터 자식노드의 경로를 10으로 설정\n",
    "    - 부모노드의 북동/북서/남동/남서 방향의 노드인 경우 부모노드로부터 자식노드의 경로를 14로 설정 ($\\sqrt{2}$배)\n",
    "- data type : `int`\n",
    "\n",
    "\n",
    "#### (2) `H`\n",
    "- **현재 노드에서부터 GOAL까지의 경로 거리**\n",
    "- 대각선 경로 불포함\n",
    "- 계산 : [{(GOAL의 x 좌표) - (현재노드의 x 좌표)} + {(GOAL의 y 좌표) - (현재노드의 y 좌표)}] * 10\n",
    "- daya type : `int`\n",
    "\n",
    "#### (3) `F`\n",
    "- **\n",
    "\n",
    "#### (3) `location`\n",
    "- **각 노드의 좌표**\n",
    "- 미로 맵의 가장 왼쪽 아래 점이 (0, 0)으로, x축과 y축에 따라 오른쪽, 위쪽을 양의 방향으로 증가한다.\n",
    "- daya type : `tuple`\n",
    "\n",
    "#### (4) `parent`\n",
    "- **부모노드의 좌표**\n",
    "- 현재 노드의 G값 계산 시에 parent의 G값을 이용하여 계산할 수 있다.\n",
    "- START로부터 현재 노드까지의 경로는 현재 노드에서부터 START까지 연결된 parent들의 집합이다.\n",
    "- data type : `tuple`"
   ]
  },
  {
   "cell_type": "markdown",
   "metadata": {},
   "source": [
    "## 1.2 `class Astar`\n",
    "- 주어진 maze에 대한 최단경로를 탐색하는 객체\n",
    "- maze, maze의 모든 노드, 경로를 탐색하며 쌓이는 객체들의 리스트 등 maze에 대한 모든 정보를 저장하며 경로를 탐색한다."
   ]
  },
  {
   "cell_type": "markdown",
   "metadata": {},
   "source": [
    "### 1.2.1 variables"
   ]
  },
  {
   "cell_type": "markdown",
   "metadata": {},
   "source": [
    "#### (1) `maze_map`\n",
    "- **user로부터 input으로 받은 maze의 지도로, 2차원 형태의 list**\n",
    "- 가공되지 않은 형태의 maze map\n",
    "- list의 모든 요소는 0 또는 1로 이루어져 있다.\n",
    "    - `0` : barrier가 아닌 칸. START나 GOAL 노드가 될 수 있다.\n",
    "    - `1` : barrier인 칸. START나 GOAL 노드는 barrier인 칸에 설정할 수 없다.\n",
    "- Astar 클래스의 내장함수 `encode_map`을 이용해 maze_dict로 변환된다.\n",
    "- data type : `list`\n",
    "\n",
    "#### (2) `maze_dict`\n",
    "- **maze_map을 encoding하여 모든 점(칸)을 노드 객체로써 저장한 딕셔너리**\n",
    "    - key : 노드의 location(좌표)\n",
    "    - value : 노드 객체\n",
    "- maze의 모든 노드를 저장하며, 현재 노드의 주변 노드를 탐색, 탐색된 노드를 리스트에 저장할 때 maze_dict의 정보를 불러와서 쓰게 된다.\n",
    "- data type : `dic`\n",
    "    - key data type : `tuple`\n",
    "    - value data tupe : `Node instance`\n",
    "\n",
    "#### (3) `START`, `GOAL`\n",
    "- **START점과 GOAL점의 노드**\n",
    "- 주어진 maze에서 start점과 goal점을 Node객체로써 저장한다.\n",
    "- data type : `Node instance`\n",
    "\n",
    "#### (4) `barrier_list`\n",
    "- **maze_map에서 설정된 barrier의 좌표가 저장된 list**\n",
    "- maze_map을 maze_dict로 encoding할 때 barrier인 칸들의 좌표를 저장한다.\n",
    "- data type : `list`\n",
    "\n",
    "#### (5) `opened_list`\n",
    "- **현재까지 search 된 모든 노드 좌표가 저장된 list**\n",
    "- 새로운 노드들을 search할 때 barrier_list, closed_list에 있는 좌표는 제외된다.\n",
    "- data type : `list`\n",
    "\n",
    "#### (6) `closed_list`\n",
    "- **현재까지 search 된 노드 중, 경로로써 선택된 노드의 좌표가 저장된 list**\n",
    "- 경로를 탐색하는 과정에서 G, H, F값의 비교를 통해 적절히 노드를 선택해 경로를 쌓을 때 경로가 되는 노드를 저장한다.\n",
    "- data type : `list`\n",
    "\n",
    "#### (7) `DIR`\n",
    "- **8가지 방향 (동/서/남/북/남동/남서/북동/북서) 의 좌표와 그에 따른 경로길이 (10 or 14)를 저장한 `상수 변수`**\n",
    "- 딕셔너리 형태로써 key에는 8방향의 튜플을, value에는 10 또는 14의 경로 길이를 저장한다.\n",
    "    - key : 8방향 (-1, 1), (0, +1), (+1, +1), (+1, 0), (+1, -1), (+1, -1), (0, -1), (-1, -1), (-1, 0)\n",
    "    - value : 10 or 14\n",
    "- data type : `dic`\n",
    "    - key data type : `tuple`\n",
    "    - value data type : `int`"
   ]
  },
  {
   "cell_type": "markdown",
   "metadata": {},
   "source": [
    "### 1.2.2 functions"
   ]
  },
  {
   "cell_type": "markdown",
   "metadata": {},
   "source": [
    "---"
   ]
  },
  {
   "cell_type": "markdown",
   "metadata": {},
   "source": [
    "#### F = G + H"
   ]
  },
  {
   "cell_type": "markdown",
   "metadata": {},
   "source": [
    "G : 지금까지 온 경로 길이  \n",
    "H : 앞으로 갈 경로 길이"
   ]
  },
  {
   "cell_type": "markdown",
   "metadata": {},
   "source": [
    "#### 필요한 것"
   ]
  },
  {
   "cell_type": "markdown",
   "metadata": {},
   "source": [
    "- opened list : 모든 탐색한 노드를 추가\n",
    "- closed list : 현재까지 선택된 노드를 추가\n",
    "- Node : 각 셀의 정보를 포함 (G, H, F, parent_node, current_location)"
   ]
  }
 ],
 "metadata": {
  "kernelspec": {
   "display_name": "Python 3",
   "language": "python",
   "name": "python3"
  },
  "language_info": {
   "codemirror_mode": {
    "name": "ipython",
    "version": 3
   },
   "file_extension": ".py",
   "mimetype": "text/x-python",
   "name": "python",
   "nbconvert_exporter": "python",
   "pygments_lexer": "ipython3",
   "version": "3.7.0"
  }
 },
 "nbformat": 4,
 "nbformat_minor": 2
}
