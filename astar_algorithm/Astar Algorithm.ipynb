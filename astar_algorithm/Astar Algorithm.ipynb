{
 "cells": [
  {
   "cell_type": "markdown",
   "metadata": {},
   "source": [
    "## [PROJECTmini] #1"
   ]
  },
  {
   "cell_type": "markdown",
   "metadata": {},
   "source": [
    "# Astar Algorithm"
   ]
  },
  {
   "cell_type": "markdown",
   "metadata": {},
   "source": [
    "- **최단경로 미로찾기**  \n",
    "장애물이 있는 $M * N$ 크기의 maze 내에서 설정된 **START**점부터 **GOAL**점까지의 최단경로 탐색"
   ]
  },
  {
   "cell_type": "markdown",
   "metadata": {},
   "source": [
    "---"
   ]
  },
  {
   "cell_type": "markdown",
   "metadata": {},
   "source": [
    "# 1. Data Structure"
   ]
  },
  {
   "cell_type": "markdown",
   "metadata": {},
   "source": [
    "## 1.1 `class Node`\n",
    "- maze의 각 점(칸)이 되는 객체\n",
    "- START 노드에서부터 GOAL 노드에 도달할 때까지 이동하며 경로를 탐색하는 주체이다."
   ]
  },
  {
   "cell_type": "markdown",
   "metadata": {},
   "source": [
    "### 1.1.1 variables"
   ]
  },
  {
   "cell_type": "markdown",
   "metadata": {},
   "source": [
    "#### (1) `G`\n",
    "- **START 노드에서부터 현재 노드까지의 경로 거리**\n",
    "- 대각선 경로 포함\n",
    "- 계산 : (부모노드의 G값) + (10 or 14)\n",
    "    - 부모노드의 동/서/남/북 방향의 노드인 경우 부모노드로부터 자식노드의 경로를 10으로 설정\n",
    "    - 부모노드의 북동/북서/남동/남서 방향의 노드인 경우 부모노드로부터 자식노드의 경로를 14로 설정 ($\\sqrt{2}$배)\n",
    "- data type : `int`\n",
    "\n",
    "\n",
    "#### (2) `H`\n",
    "- **현재 노드에서부터 GOAL까지의 경로 거리**\n",
    "- 대각선 경로 불포함\n",
    "- 계산 : [{(GOAL의 x 좌표) - (현재노드의 x 좌표)} + {(GOAL의 y 좌표) - (현재노드의 y 좌표)}] * 10\n",
    "- daya type : `int`\n",
    "\n",
    "#### (3) `F`\n",
    "- **\n",
    "\n",
    "#### (3) `location`\n",
    "- **각 노드의 좌표**\n",
    "- 미로 맵의 가장 왼쪽 아래 점이 (0, 0)으로, x축과 y축에 따라 오른쪽, 위쪽을 양의 방향으로 증가한다.\n",
    "- daya type : `tuple`\n",
    "\n",
    "#### (4) `parent`\n",
    "- **부모노드의 좌표**\n",
    "- 현재 노드의 G값 계산 시에 parent의 G값을 이용하여 계산할 수 있다.\n",
    "- START로부터 현재 노드까지의 경로는 현재 노드에서부터 START까지 연결된 parent들의 집합이다.\n",
    "- data type : `tuple`"
   ]
  },
  {
   "cell_type": "markdown",
   "metadata": {},
   "source": [
    "## 1.2 `class Astar`\n",
    "- 주어진 maze에 대한 최단경로를 탐색하는 객체\n",
    "- maze, maze의 모든 노드, 경로를 탐색하며 쌓이는 객체들의 리스트 등 maze에 대한 모든 정보를 저장하며 경로를 탐색한다."
   ]
  },
  {
   "cell_type": "markdown",
   "metadata": {},
   "source": [
    "### 1.2.1 variables"
   ]
  },
  {
   "cell_type": "markdown",
   "metadata": {},
   "source": [
    "#### (1) `maze_map`\n",
    "- **user로부터 input으로 받은 maze의 지도로, 2차원 형태의 list**\n",
    "- 가공되지 않은 형태의 maze map\n",
    "- list의 모든 요소는 0 또는 1로 이루어져 있다.\n",
    "    - `0` : barrier가 아닌 칸. START나 GOAL 노드가 될 수 있다.\n",
    "    - `1` : barrier인 칸. START나 GOAL 노드는 barrier인 칸에 설정할 수 없다.\n",
    "- Astar 클래스의 내장함수 `encode_map`을 이용해 maze_dict로 변환된다.\n",
    "- data type : `list`\n",
    "\n",
    "#### (2) `maze_dict`\n",
    "- **maze_map을 encoding하여 모든 점(칸)을 노드 객체로써 저장한 딕셔너리**\n",
    "    - key : 노드의 location(좌표)\n",
    "    - value : 노드 객체\n",
    "- maze의 모든 노드를 저장하며, 현재 노드의 주변 노드를 탐색, 탐색된 노드를 리스트에 저장할 때 maze_dict의 정보를 불러와서 쓰게 된다.\n",
    "- data type : `dic`\n",
    "    - key data type : `tuple`\n",
    "    - value data tupe : `Node instance`\n",
    "\n",
    "#### (3) `START`, `GOAL`\n",
    "- **START점과 GOAL점의 노드**\n",
    "- 주어진 maze에서 start점과 goal점을 Node객체로써 저장한다.\n",
    "- data type : `Node instance`\n",
    "\n",
    "#### (4) `barrier_list`\n",
    "- **maze_map에서 설정된 barrier의 좌표가 저장된 list**\n",
    "- maze_map을 maze_dict로 encoding할 때 barrier인 칸들의 좌표를 저장한다.\n",
    "- data type : `list`\n",
    "\n",
    "#### (5) `opened_list`\n",
    "- **현재까지 search 된 모든 노드 좌표가 저장된 list**\n",
    "- 새로운 노드들을 search할 때 barrier_list, closed_list에 있는 좌표는 제외된다.\n",
    "- data type : `list`\n",
    "\n",
    "#### (6) `closed_list`\n",
    "- **현재까지 search 된 노드 중, 경로로써 선택된 노드의 좌표가 저장된 list**\n",
    "- 경로를 탐색하는 과정에서 G, H, F값의 비교를 통해 적절히 노드를 선택해 경로를 쌓을 때 경로가 되는 노드를 저장한다.\n",
    "- data type : `list`\n",
    "\n",
    "#### (7) `DIR`\n",
    "- **8가지 방향 (동/서/남/북/남동/남서/북동/북서) 의 좌표와 그에 따른 경로길이 (10 or 14)를 저장한 `상수 변수`**\n",
    "- 딕셔너리 형태로써 key에는 8방향의 튜플을, value에는 10 또는 14의 경로 길이를 저장한다.\n",
    "    - key : 8방향 (-1, 1), (0, +1), (+1, +1), (+1, 0), (+1, -1), (+1, -1), (0, -1), (-1, -1), (-1, 0)\n",
    "    - value : 10 or 14\n",
    "- data type : `dic`\n",
    "    - key data type : `tuple`\n",
    "    - value data type : `int`"
   ]
  },
  {
   "cell_type": "markdown",
   "metadata": {},
   "source": [
    "### 1.2.2 functions"
   ]
  },
  {
   "cell_type": "markdown",
   "metadata": {},
   "source": [
    "---"
   ]
  },
  {
   "cell_type": "markdown",
   "metadata": {},
   "source": [
    "#### F = G + H"
   ]
  },
  {
   "cell_type": "markdown",
   "metadata": {},
   "source": [
    "G : 지금까지 온 경로 길이  \n",
    "H : 앞으로 갈 경로 길이"
   ]
  },
  {
   "cell_type": "markdown",
   "metadata": {},
   "source": [
    "#### 필요한 것"
   ]
  },
  {
   "cell_type": "markdown",
   "metadata": {},
   "source": [
    "- opened list : 모든 탐색한 노드를 추가\n",
    "- closed list : 현재까지 선택된 노드를 추가\n",
    "- Node : 각 셀의 정보를 포함 (G, H, F, parent_node, current_location)"
   ]
  },
  {
   "cell_type": "markdown",
   "metadata": {},
   "source": [
    "### Node"
   ]
  },
  {
   "cell_type": "code",
   "execution_count": null,
   "metadata": {},
   "outputs": [],
   "source": [
    "class Node:\n",
    "    \n",
    "    \n",
    "    def __init__(self, G=0, H=0, parent=None, location=None):\n",
    "\n",
    "        self.G = G\n",
    "        self.H = H\n",
    "        self.F = self.G + self.H\n",
    "        self.parent = parent\n",
    "        self.location = location"
   ]
  },
  {
   "cell_type": "code",
   "execution_count": null,
   "metadata": {},
   "outputs": [],
   "source": [
    "a = Node(location=(3, 2))"
   ]
  },
  {
   "cell_type": "markdown",
   "metadata": {},
   "source": [
    "### Astar"
   ]
  },
  {
   "cell_type": "code",
   "execution_count": null,
   "metadata": {},
   "outputs": [],
   "source": [
    "# import numpy as np\n",
    "\n",
    "class Astar:\n",
    "    DIR = {\n",
    "        (-1, 1): 14,\n",
    "        (0, 1): 10,\n",
    "        (1, 1): 14,\n",
    "        (1, 0): 10,\n",
    "        (1, -1): 14,\n",
    "        (0, -1): 10,\n",
    "        (-1, -1): 14,\n",
    "        (-1, 0):10\n",
    "    }\n",
    "    def __init__(self, maze_map, start, goal):\n",
    "        self.maze_dict = dict()\n",
    "        self.maze_map = maze_map\n",
    "        self.opened_list = list()\n",
    "        self.closed_list = list()\n",
    "        self.barrier_list = list()\n",
    "        self.START = Node(location=start)\n",
    "        self.GOAL = Node(location=goal)\n",
    "        self.path = list()\n",
    "    def encode_map(self):\n",
    "        # 외곽벽 추가\n",
    "        EXIT_ROW = len(self.maze_map)    # 행의 갯수\n",
    "        EXIT_COL = len(self.maze_map[0]) # 열의 갯수\n",
    "        for row in self.maze_map:        # 첫번째열 마지막열 1로 채운다\n",
    "            row.insert(0, 1)\n",
    "            row.append(1)\n",
    "        added_row = [1 for _ in range(EXIT_COL+2)]  # 첫번째행, 마지막행 1로 채운다\n",
    "        self.maze_map.insert(0, added_row)\n",
    "        self.maze_map.append(added_row)\n",
    "        # x,y 좌표 직관적으로 바꾸기\n",
    "        # maze_dict location node 할당\n",
    "        for y in range(len(maze_map)-1, -1, -1):\n",
    "            y_loc = len(maze_map) - (y+2)\n",
    "            for x, value in enumerate(maze_map[y]):\n",
    "                x_loc = x - 1\n",
    "                self.maze_dict[(x_loc,y_loc)] = Node(location =(x_loc,y_loc))\n",
    "                if value == 1:\n",
    "                    self.barrier_list.append((x_loc, y_loc))\n",
    "    def start_goal(self):\n",
    "        start_location = self.START.location\n",
    "        goal_location = self.GOAL.location\n",
    "        # START G,H value\n",
    "        G = 0\n",
    "        H = abs((goal_location[0]-start_location[0]) + (goal_location[1]-start_location[1])) * 10\n",
    "        # START NODE H value\n",
    "        self.START.H = H\n",
    "        # START NODE and GOAL NODE maze dict에 할당\n",
    "        self.maze_dict[start_location] = self.START\n",
    "        self.maze_dict[goal_location] = self.GOAL\n",
    "        \n",
    "        #Start Parent\n",
    "        \n",
    "    def search_around(self, NODE):\n",
    "        # 일단 search하는 중심 노드는 closed_list에 추가\n",
    "        self.closed_list.append(NODE.location)\n",
    "        # 주변 노드 좌표 리스트 생성\n",
    "        around_nodes = list(map(tuple, np.array(list(Astar.DIR.keys())) + NODE.location))\n",
    "        \n",
    "        for i in around_nodes:\n",
    "            self.maze_dict[i].parent = NODE.location\n",
    "            \n",
    "        return around_nodes\n",
    "    def astar_algorithm(self, CUR, cur_around):\n",
    "        for i in cur_around:\n",
    "            if i in self.opened_list:\n",
    "                new_G = CUR.G + self.DIR[(self.maze_dict[i].location[0] - CUR.location[0], self.maze_dict[i].location[1] - CUR.location[1])]\n",
    "                old_G = self.maze_dict[i].G\n",
    "                if new_G >= old_G:\n",
    "                    continue\n",
    "                else:\n",
    "                    self.maze_dict[i].parent = CUR.location\n",
    "            elif (i in self.closed_list) | (i in self.barrier_list):\n",
    "                continue\n",
    "            else:\n",
    "#                 print(self.maze_dict[i].location)\n",
    "#                 print(self.maze_dict[i])\n",
    "                self.calculate(self.maze_dict[i])\n",
    "                self.push_open(i)\n",
    "                self.maze_dict[i].parent = CUR.location\n",
    "    def calculate(self, NODE):\n",
    "        '''\n",
    "        parameter : NODE - Node() 자료구조\n",
    "        return : 없음 - NODE 객체 안에 data (F, G, H)를 변경\n",
    "        NODE 가 들어왔을 때, 그 G, H, F 를 계산하여, 다시 해당 NODE.G, NODE.H, NODE.F에\n",
    "        할당해 줍니다.\n",
    "        NODE.G 의 경우, 부모로부터 온 방향을 찾아 DIR dictionary 에서 10 혹은 14 값을 받아, 부모의 G 값에서 더합니다.\n",
    "        NODE.H 의 경우, self.GOAL 까지의 거리 입니다. 이 거리는 Manhattan Path Scoring 방법을 사용합니다.\n",
    "        NODE.F 의 경우, NODE.G와 NODE.H를 더합니다.\n",
    "        '''\n",
    "        #Testing 을 클래스 밖에서 간단하게 해서 잘 돌아갔으나, class 안에서 다시한번 해볼 필요가 있습니다.\n",
    "        #NODE 가 부모로부터 어느 방향으로부터 왔는가\n",
    "        #이것을 알아야 10을 더할지 14를 더할지 DIR 에서 선택할 수 있다.\n",
    "#         print(NODE)\n",
    "#         print(NODE.location)\n",
    "#         print(NODE.parent)\n",
    "        direction = NODE.location[0] - NODE.parent[0], NODE.location[1] - NODE.parent[1]\n",
    "        #G 값계산\n",
    "        NODE.G = self.maze_dict[NODE.parent].G + self.DIR[direction]\n",
    "        #H 값계산\n",
    "        NODE.H = (abs(self.GOAL.location[0] - NODE.location[0]) + \\\n",
    "        abs(self.GOAL.location[1] - NODE.location[1])) * 10\n",
    "        #F 값계산\n",
    "        NODE.F = NODE.G + NODE.H\n",
    "    def push_open(self, location):\n",
    "        # search_around 함수와 동일하게 around_nodes 리스트 생성\n",
    "        around_nodes = None\n",
    "        around_nodes = list(map(tuple, np.array(list(Astar.DIR.keys())) + location))\n",
    "#         print(around_nodes)\n",
    "        location_NE = tuple(np.array(location) + np.array([1, 1]))\n",
    "        location_NW = tuple(np.array(location) + np.array([-1, 1]))\n",
    "        location_SE = tuple(np.array(location) + np.array([1, -1]))\n",
    "        location_SW = tuple(np.array(location) + np.array([-1, -1]))\n",
    "        diagonal_path = [location_NE, location_NW, location_SW, location_SE]\n",
    "        diagonal_location_direction = [[(-1,0),(0,-1)],[(1,0),(0,-1)],[(0,1),(1,0)],[(0,1),(-1,0)]]\n",
    "#         print(diagonal_path)\n",
    "#         print(location)\n",
    "        for i in around_nodes:\n",
    "            print(around_nodes)\n",
    "            if (i not in self.barrier_list) and (i not in self.opened_list)\\\n",
    "            and (i not in diagonal_path):\n",
    "                self.opened_list.append(i)\n",
    "        for j in zip(diagonal_path, diagonal_location_direction):\n",
    "            if tuple(np.array(j[0]) + np.array(j[1][0])) not in self.barrier_list:\n",
    "                if tuple(np.array(j[0]) + np.array(j[1][1])) not in self.barrier_list:\n",
    "                    self.opened_list.append(j[0])\n",
    "    def sorting_open(self, reverse=False):\n",
    "        self.opened_list = sorted(self.opened_list, key=lambda x:self.maze_dict[x].F, reverse=reverse)\n",
    "#         sort_open = [(i, self.maze_dict[i].F) for i in self.opened_list]\n",
    "#         self.opened_list = [j[0] for j in sorted(sort_open, key=lambda i: i[1], reverse=reverse)]\n",
    "        \n",
    "    # , maze_map, start_location, goal_location\n",
    "    def maze_solver(self):\n",
    "        self.encode_map()  # self.maze_map 생성\n",
    "        self.start_goal()  # start, goal 노드 생성 완료\n",
    "        CUR = self.START   # CUR를 START 노드로 설정 완료\n",
    "        cur_around = self.search_around(CUR) # start의 search_around\n",
    "        while self.GOAL.location not in cur_around:\n",
    "#             print(\"maze_solver\", CUR.location, cur_around, \"!\")\n",
    "            self.astar_algorithm(CUR, cur_around)\n",
    "            print(CUR.location)\n",
    "            self.sorting_open(reverse=True)\n",
    "            CUR = self.maze_dict[self.opened_list.pop()]\n",
    "            cur_around = self.search_around(CUR)\n",
    "        \n",
    "        self.GOAL.G = CUR.G + self.DIR[self.GOAL.location[0] - CUR.location[0],\\\n",
    "                                 self.GOAL.loaction[1] - CUR.loaction[1]]\n",
    "        self.GOAL.parent = CUR.location\n",
    "        \n",
    "        while CUR.location != self.START.location:\n",
    "            self.path.append(CUR.location)\n",
    "            CUR = self.maze_dict[CUR.parent]\n",
    "        self.path.reverse()\n",
    "    \n",
    "        return self.path, self.GOAL.G"
   ]
  },
  {
   "cell_type": "code",
   "execution_count": null,
   "metadata": {},
   "outputs": [],
   "source": [
    "start = (0, 2)\n",
    "goal = (4, 2)\n",
    "maze_map = [[0, 0, 0, 0, 0],\n",
    "            [0, 0, 1, 0, 0],\n",
    "            [0, 0, 1, 0, 0],\n",
    "            [0, 0, 1, 0, 0],\n",
    "            [0, 0, 0, 0, 0]]"
   ]
  },
  {
   "cell_type": "code",
   "execution_count": null,
   "metadata": {},
   "outputs": [],
   "source": [
    "maze = Astar(maze_map, start, goal)"
   ]
  },
  {
   "cell_type": "code",
   "execution_count": null,
   "metadata": {},
   "outputs": [],
   "source": [
    "maze.maze_solver()"
   ]
  },
  {
   "cell_type": "code",
   "execution_count": null,
   "metadata": {},
   "outputs": [],
   "source": []
  }
 ],
 "metadata": {
  "kernelspec": {
   "display_name": "Python 3",
   "language": "python",
   "name": "python3"
  },
  "language_info": {
   "codemirror_mode": {
    "name": "ipython",
    "version": 3
   },
   "file_extension": ".py",
   "mimetype": "text/x-python",
   "name": "python",
   "nbconvert_exporter": "python",
   "pygments_lexer": "ipython3",
   "version": "3.7.0"
  }
 },
 "nbformat": 4,
 "nbformat_minor": 2
}
